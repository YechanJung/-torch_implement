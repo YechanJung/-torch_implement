{
 "cells": [
  {
   "cell_type": "code",
   "execution_count": null,
   "metadata": {},
   "outputs": [],
   "source": [
    "import torch\n",
    "import torch.nn as nn\n",
    "import torch.nn.functional as F"
   ]
  },
  {
   "cell_type": "code",
   "execution_count": null,
   "metadata": {},
   "outputs": [],
   "source": [
    "class down_block(nn.Module):\n",
    "    def __init__(self, in_channels, out_channels):\n",
    "        super(down_block, self).__init__()\n",
    "        self.conv = nn.Sequential(\n",
    "            nn.Conv2d(in_channels, out_channels, kernel_size=3, ),\n",
    "            nn.BatchNorm2d(out_channels),\n",
    "            nn.ReLU(inplace=True),\n",
    "            nn.Conv2d(out_channels, out_channels, kernel_size=3, ),\n",
    "            nn.BatchNorm2d(out_channels),\n",
    "            nn.ReLU(inplace=True)\n",
    "        )\n",
    "        self.pool = nn.MaxPool2d(kernel_size=2, stride=2)\n",
    "    def forward(self, x):\n",
    "        conv = self.conv(x)\n",
    "        x = self.pool(conv)\n",
    "        return conv, x\n",
    "\n",
    "class up_conv(nn.Module):\n",
    "    def __init__(self, in_channels, out_channels):\n",
    "        super(up_conv, self).__init__()\n",
    "        self.up = nn.Sequential(\n",
    "            nn.ConvTranspose2d(in_channels, out_channels, kernel_size=2, stride=2),\n",
    "            nn.ReLU(inplace=True)\n",
    "        )\n",
    "        self.conv = nn.Sequential(\n",
    "            nn.Conv2d(2*in_channels, out_channels, kernel_size=3, ),\n",
    "            nn.BatchNorm2d(out_channels),\n",
    "            nn.ReLU(inplace=True),\n",
    "            nn.Conv2d(out_channels, out_channels, kernel_size=3, ),\n",
    "            nn.BatchNorm2d(out_channels),\n",
    "            nn.ReLU(inplace=True)\n",
    "        )\n",
    "    def forward(self, x, y):\n",
    "        x = self.up(x)\n",
    "        x = torch.cat([x, y], dim=1)\n",
    "        x = self.conv(x)\n",
    "        return x\n",
    "\n",
    "\n",
    "\n",
    "    \n"
   ]
  },
  {
   "cell_type": "code",
   "execution_count": null,
   "metadata": {},
   "outputs": [],
   "source": [
    "\n",
    "class UNet(nn.Module):\n",
    "    def __init__(self, in_channels=3, out_channels=2, features=[64, 128, 256, 512, 1024]):\n",
    "        super(UNet, self).__init__()\n",
    "        self.inc = down_block(in_channels, features[0])\n",
    "        self.down1 = down_block(features[0], features[1])\n",
    "        self.down2 = down_block(features[1], features[2])\n",
    "        self.down3 = down_block(features[2], features[3])\n",
    "        self.bottom = nn.Sequential(\n",
    "            nn.Conv2d(features[3], features[4], kernel_size=3, ),\n",
    "            nn.BatchNorm2d(features[4]),\n",
    "            nn.ReLU(inplace=True),\n",
    "            nn.Conv2d(features[4], features[4], kernel_size=3, ),\n",
    "            nn.BatchNorm2d(features[4]),\n",
    "            nn.ReLU(inplace=True)\n",
    "        )\n",
    "        self.up1 = up_conv(features[4], features[3])\n",
    "        self.up2 = up_conv(features[3], features[2])\n",
    "        self.up3 = up_conv(features[2], features[1])\n",
    "        self.up4 = up_conv(features[1], features[0])\n",
    "        self.outc = nn.Conv2d(features[0], out_channels, kernel_size=1)\n",
    "\n",
    "    def forward(self, x):\n",
    "        conv1, x1 = self.inc(x)\n",
    "        conv2, x2 = self.down1(x1)\n",
    "        conv3, x3 = self.down2(x2)\n",
    "        conv4, x4 = self.down3(x3)\n",
    "        conv5 = self.bottom(x4)\n",
    "        x = self.up1(conv5, conv4)\n",
    "        x = self.up2(x, conv3)\n",
    "        x = self.up3(x, conv2)\n",
    "        x = self.up4(x, conv1)\n",
    "        x = self.outc(x)\n",
    "        return x"
   ]
  },
  {
   "cell_type": "code",
   "execution_count": null,
   "metadata": {},
   "outputs": [],
   "source": [
    "from torchsummary import summary\n",
    "\n",
    "model = UNet(in_channels=3, out_channels=1, features=[64, 128, 256, 512])\n",
    "summary(model, (3, 572, 572))"
   ]
  }
 ],
 "metadata": {
  "language_info": {
   "name": "python"
  }
 },
 "nbformat": 4,
 "nbformat_minor": 2
}
